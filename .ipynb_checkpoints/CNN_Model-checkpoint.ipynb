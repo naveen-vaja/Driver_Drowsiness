{
 "cells": [
  {
   "cell_type": "markdown",
   "id": "0f2d1f1e",
   "metadata": {},
   "source": [
    "# CNN Model for Driver Drowsiness Detection"
   ]
  },
  {
   "cell_type": "markdown",
   "id": "e2f292bc",
   "metadata": {},
   "source": [
    "### CNN Model"
   ]
  },
  {
   "cell_type": "markdown",
   "id": "4cb8063a",
   "metadata": {},
   "source": [
    "## Import libraries"
   ]
  },
  {
   "cell_type": "code",
   "execution_count": 7,
   "id": "2c5c7ebe",
   "metadata": {},
   "outputs": [],
   "source": [
    "import tensorflow as tf\n",
    "from keras.preprocessing.image import ImageDataGenerator"
   ]
  },
  {
   "cell_type": "markdown",
   "id": "ffda1868",
   "metadata": {},
   "source": [
    "## Data Preprocessing"
   ]
  },
  {
   "cell_type": "markdown",
   "id": "3d5d6fb5",
   "metadata": {},
   "source": [
    "    ### Preprocessing the training & testing dataset"
   ]
  },
  {
   "cell_type": "code",
   "execution_count": 8,
   "id": "aa702fd7",
   "metadata": {},
   "outputs": [
    {
     "name": "stdout",
     "output_type": "stream",
     "text": [
      "Found 1234 images belonging to 2 classes.\n",
      "Found 218 images belonging to 2 classes.\n"
     ]
    }
   ],
   "source": [
    "train_datagen = ImageDataGenerator(\n",
    "    rescale = 1./255,\n",
    "    shear_range = 0.2,\n",
    "    zoom_range = 0.2,\n",
    "    horizontal_flip = True\n",
    ")\n",
    "\n",
    "train_set = train_datagen.flow_from_directory(\n",
    "    './dataset_new/train/eyes',\n",
    "    target_size = (64,64),\n",
    "    batch_size = 32,\n",
    "    class_mode = 'binary'\n",
    ")\n",
    "\n",
    "test_datagen = ImageDataGenerator(\n",
    "    rescale = 1./255\n",
    ")\n",
    "\n",
    "test_set = test_datagen.flow_from_directory(\n",
    "    './dataset_new/test/eyes',\n",
    "    target_size = (64,64),\n",
    "    batch_size = 32,\n",
    "    class_mode = 'binary'\n",
    ")"
   ]
  },
  {
   "cell_type": "code",
   "execution_count": 21,
   "id": "7125a1e8",
   "metadata": {},
   "outputs": [
    {
     "name": "stdout",
     "output_type": "stream",
     "text": [
      "{'Closed': 0, 'Open': 1}\n"
     ]
    }
   ],
   "source": [
    "print(train_set.class_indices)"
   ]
  },
  {
   "cell_type": "markdown",
   "id": "8c6b085e",
   "metadata": {},
   "source": [
    "## Building the CNN"
   ]
  },
  {
   "cell_type": "markdown",
   "id": "47fdd799",
   "metadata": {},
   "source": [
    "### Initializing the CNN"
   ]
  },
  {
   "cell_type": "code",
   "execution_count": 9,
   "id": "189beeea",
   "metadata": {},
   "outputs": [],
   "source": [
    "cnn = tf.keras.models.Sequential()"
   ]
  },
  {
   "cell_type": "markdown",
   "id": "ae65a18e",
   "metadata": {},
   "source": [
    "### Convolution Operation"
   ]
  },
  {
   "cell_type": "code",
   "execution_count": 10,
   "id": "807f4e97",
   "metadata": {},
   "outputs": [],
   "source": [
    "cnn.add(tf.keras.layers.Conv2D(filters = 32,kernel_size=3,activation = 'relu', input_shape = [64,64,3]))"
   ]
  },
  {
   "cell_type": "markdown",
   "id": "175f5054",
   "metadata": {},
   "source": [
    "### Pooling"
   ]
  },
  {
   "cell_type": "code",
   "execution_count": 11,
   "id": "a2a792b9",
   "metadata": {},
   "outputs": [],
   "source": [
    "cnn.add(tf.keras.layers.MaxPool2D(pool_size = 2, strides = 2))"
   ]
  },
  {
   "cell_type": "markdown",
   "id": "5203b2a3",
   "metadata": {},
   "source": [
    "### Adding a second Convolution Layer and Max Pooling Layer"
   ]
  },
  {
   "cell_type": "code",
   "execution_count": 13,
   "id": "be5fc041",
   "metadata": {},
   "outputs": [],
   "source": [
    "cnn.add(tf.keras.layers.Conv2D(filters = 32, kernel_size = 3, activation = 'relu'))    \n",
    "cnn.add(tf.keras.layers.MaxPool2D(pool_size = 2, strides = 2))"
   ]
  },
  {
   "cell_type": "markdown",
   "id": "c1625788",
   "metadata": {},
   "source": [
    "### Flattening"
   ]
  },
  {
   "cell_type": "code",
   "execution_count": 14,
   "id": "fc6dcfca",
   "metadata": {},
   "outputs": [],
   "source": [
    "cnn.add(tf.keras.layers.Flatten())"
   ]
  },
  {
   "cell_type": "markdown",
   "id": "5894e22a",
   "metadata": {},
   "source": [
    "### Full Connection"
   ]
  },
  {
   "cell_type": "code",
   "execution_count": 15,
   "id": "f842ba0c",
   "metadata": {},
   "outputs": [],
   "source": [
    "cnn.add(tf.keras.layers.Dense(units = 128, activation = 'relu'))"
   ]
  },
  {
   "cell_type": "markdown",
   "id": "2c2b2abe",
   "metadata": {},
   "source": [
    "### Output Layer"
   ]
  },
  {
   "cell_type": "code",
   "execution_count": 16,
   "id": "186cf8a1",
   "metadata": {},
   "outputs": [],
   "source": [
    "cnn.add(tf.keras.layers.Dense(units = 1, activation = 'sigmoid'))"
   ]
  },
  {
   "cell_type": "markdown",
   "id": "14608ef1",
   "metadata": {},
   "source": [
    "### Training the CNN"
   ]
  },
  {
   "cell_type": "code",
   "execution_count": 18,
   "id": "9fb18a3d",
   "metadata": {},
   "outputs": [
    {
     "name": "stdout",
     "output_type": "stream",
     "text": [
      "Epoch 1/25\n",
      "39/39 [==============================] - 26s 581ms/step - loss: 0.5148 - accuracy: 0.7520 - val_loss: 0.2113 - val_accuracy: 0.9404\n",
      "Epoch 2/25\n",
      "39/39 [==============================] - 20s 524ms/step - loss: 0.1704 - accuracy: 0.9327 - val_loss: 0.1760 - val_accuracy: 0.9587\n",
      "Epoch 3/25\n",
      "39/39 [==============================] - 24s 604ms/step - loss: 0.1271 - accuracy: 0.9530 - val_loss: 0.1236 - val_accuracy: 0.9541\n",
      "Epoch 4/25\n",
      "39/39 [==============================] - 24s 601ms/step - loss: 0.0975 - accuracy: 0.9643 - val_loss: 0.1262 - val_accuracy: 0.9495\n",
      "Epoch 5/25\n",
      "39/39 [==============================] - 19s 493ms/step - loss: 0.0885 - accuracy: 0.9652 - val_loss: 0.1439 - val_accuracy: 0.9541\n",
      "Epoch 6/25\n",
      "39/39 [==============================] - 20s 530ms/step - loss: 0.0759 - accuracy: 0.9708 - val_loss: 0.1961 - val_accuracy: 0.9266\n",
      "Epoch 7/25\n",
      "39/39 [==============================] - 20s 501ms/step - loss: 0.0972 - accuracy: 0.9684 - val_loss: 0.1258 - val_accuracy: 0.9679\n",
      "Epoch 8/25\n",
      "39/39 [==============================] - 19s 497ms/step - loss: 0.0662 - accuracy: 0.9741 - val_loss: 0.1079 - val_accuracy: 0.9679\n",
      "Epoch 9/25\n",
      "39/39 [==============================] - 19s 497ms/step - loss: 0.0666 - accuracy: 0.9757 - val_loss: 0.1310 - val_accuracy: 0.9541\n",
      "Epoch 10/25\n",
      "39/39 [==============================] - 20s 516ms/step - loss: 0.0656 - accuracy: 0.9741 - val_loss: 0.1368 - val_accuracy: 0.9633\n",
      "Epoch 11/25\n",
      "39/39 [==============================] - 22s 549ms/step - loss: 0.0595 - accuracy: 0.9741 - val_loss: 0.1772 - val_accuracy: 0.9495\n",
      "Epoch 12/25\n",
      "39/39 [==============================] - 21s 530ms/step - loss: 0.0567 - accuracy: 0.9773 - val_loss: 0.0869 - val_accuracy: 0.9771\n",
      "Epoch 13/25\n",
      "39/39 [==============================] - 20s 514ms/step - loss: 0.0578 - accuracy: 0.9822 - val_loss: 0.1470 - val_accuracy: 0.9312\n",
      "Epoch 14/25\n",
      "39/39 [==============================] - 19s 500ms/step - loss: 0.0562 - accuracy: 0.9781 - val_loss: 0.1050 - val_accuracy: 0.9725\n",
      "Epoch 15/25\n",
      "39/39 [==============================] - 19s 481ms/step - loss: 0.0492 - accuracy: 0.9822 - val_loss: 0.0936 - val_accuracy: 0.9771\n",
      "Epoch 16/25\n",
      "39/39 [==============================] - 20s 503ms/step - loss: 0.0479 - accuracy: 0.9789 - val_loss: 0.1225 - val_accuracy: 0.9587\n",
      "Epoch 17/25\n",
      "39/39 [==============================] - 21s 551ms/step - loss: 0.0322 - accuracy: 0.9870 - val_loss: 0.1113 - val_accuracy: 0.9633\n",
      "Epoch 18/25\n",
      "39/39 [==============================] - 19s 482ms/step - loss: 0.0549 - accuracy: 0.9797 - val_loss: 0.0865 - val_accuracy: 0.9679\n",
      "Epoch 19/25\n",
      "39/39 [==============================] - 19s 483ms/step - loss: 0.0395 - accuracy: 0.9903 - val_loss: 0.0997 - val_accuracy: 0.9817\n",
      "Epoch 20/25\n",
      "39/39 [==============================] - 19s 496ms/step - loss: 0.0508 - accuracy: 0.9806 - val_loss: 0.1096 - val_accuracy: 0.9725\n",
      "Epoch 21/25\n",
      "39/39 [==============================] - 19s 483ms/step - loss: 0.0397 - accuracy: 0.9895 - val_loss: 0.1058 - val_accuracy: 0.9725\n",
      "Epoch 22/25\n",
      "39/39 [==============================] - 19s 487ms/step - loss: 0.0254 - accuracy: 0.9911 - val_loss: 0.0777 - val_accuracy: 0.9725\n",
      "Epoch 23/25\n",
      "39/39 [==============================] - 18s 475ms/step - loss: 0.0270 - accuracy: 0.9862 - val_loss: 0.0955 - val_accuracy: 0.9679\n",
      "Epoch 24/25\n",
      "39/39 [==============================] - 19s 475ms/step - loss: 0.0297 - accuracy: 0.9895 - val_loss: 0.0846 - val_accuracy: 0.9771\n",
      "Epoch 25/25\n",
      "39/39 [==============================] - 19s 477ms/step - loss: 0.0270 - accuracy: 0.9903 - val_loss: 0.0829 - val_accuracy: 0.9771\n"
     ]
    },
    {
     "data": {
      "text/plain": [
       "<keras.callbacks.History at 0x1fcb947ad30>"
      ]
     },
     "execution_count": 18,
     "metadata": {},
     "output_type": "execute_result"
    }
   ],
   "source": [
    "cnn.compile(optimizer = 'adam',loss = 'binary_crossentropy', metrics = ['accuracy'])\n",
    "cnn.fit(x = train_set, validation_data = test_set, epochs = 25)"
   ]
  },
  {
   "cell_type": "markdown",
   "id": "37de5a15",
   "metadata": {},
   "source": [
    "### Saving CNN model"
   ]
  },
  {
   "cell_type": "code",
   "execution_count": 19,
   "id": "a75ba447",
   "metadata": {},
   "outputs": [
    {
     "name": "stdout",
     "output_type": "stream",
     "text": [
      "Saved model to disk\n"
     ]
    }
   ],
   "source": [
    "# serialize model to JSON\n",
    "model_json = cnn.to_json()\n",
    "with open(\"model.json\", \"w\") as json_file:\n",
    "    json_file.write(model_json)\n",
    "# serialize weights to HDF5\n",
    "cnn.save_weights(\"model.h5\")\n",
    "print(\"Saved model to disk\")"
   ]
  }
 ],
 "metadata": {
  "kernelspec": {
   "display_name": "Python 3 (ipykernel)",
   "language": "python",
   "name": "python3"
  },
  "language_info": {
   "codemirror_mode": {
    "name": "ipython",
    "version": 3
   },
   "file_extension": ".py",
   "mimetype": "text/x-python",
   "name": "python",
   "nbconvert_exporter": "python",
   "pygments_lexer": "ipython3",
   "version": "3.8.8"
  }
 },
 "nbformat": 4,
 "nbformat_minor": 5
}
